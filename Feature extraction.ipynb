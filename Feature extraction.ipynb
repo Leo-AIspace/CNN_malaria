{
 "cells": [
  {
   "cell_type": "code",
   "execution_count": 1,
   "metadata": {},
   "outputs": [
    {
     "name": "stderr",
     "output_type": "stream",
     "text": [
      "100%|███████████████████████████████████████████████████████████████████████████| 21765/21765 [00:24<00:00, 883.95it/s]\n"
     ]
    }
   ],
   "source": [
    "import matplotlib.pyplot as plt\n",
    "from tqdm import tqdm\n",
    "filepath = '.\\\\train'\n",
    "images = [] #儲存影像\n",
    "fileslist = [] #儲存影像名稱與路徑\n",
    "counter = 0\n",
    "import os\n",
    "for root, dirs, files in os.walk(filepath, topdown=False):\n",
    "    for name in tqdm(files):\n",
    "        counter +=  1\n",
    "        #if counter % 1000 == 0:\n",
    "        #    print('The status is', counter)\n",
    "        filename = os.path.join(root, name)\n",
    "        fileslist.append(filename)\n",
    "        images.append(plt.imread(filename))"
   ]
  },
  {
   "cell_type": "code",
   "execution_count": 2,
   "metadata": {},
   "outputs": [
    {
     "data": {
      "text/plain": [
       "['.\\\\train\\\\00000.jpg', '.\\\\train\\\\00001.jpg', '.\\\\train\\\\00002.jpg']"
      ]
     },
     "execution_count": 2,
     "metadata": {},
     "output_type": "execute_result"
    }
   ],
   "source": [
    "fileslist[:3]"
   ]
  },
  {
   "cell_type": "code",
   "execution_count": 3,
   "metadata": {},
   "outputs": [
    {
     "data": {
      "text/plain": [
       "0.8425086"
      ]
     },
     "execution_count": 3,
     "metadata": {},
     "output_type": "execute_result"
    }
   ],
   "source": [
    "from skimage.color import rgb2gray\n",
    "rgb2gray(images[0]).max()"
   ]
  },
  {
   "cell_type": "code",
   "execution_count": 4,
   "metadata": {},
   "outputs": [],
   "source": [
    "images_g=[rgb2gray(i) for i in images]"
   ]
  },
  {
   "cell_type": "code",
   "execution_count": 5,
   "metadata": {},
   "outputs": [],
   "source": [
    "from skimage.filters import sobel\n",
    "from skimage.feature import canny\n",
    "def boundary(i):\n",
    "    image_sobel=sobel(i)\n",
    "    image_sobel[image_sobel>=0.25]=1\n",
    "    image_sobel[image_sobel<0.25]=0\n",
    "    image_sobel=abs(image_sobel-1)\n",
    "    img_Canny= canny(i, sigma=1)\n",
    "    return img_Canny*image_sobel"
   ]
  },
  {
   "cell_type": "code",
   "execution_count": 6,
   "metadata": {},
   "outputs": [
    {
     "name": "stderr",
     "output_type": "stream",
     "text": [
      "100%|███████████████████████████████████████████████████████████████████████████| 21765/21765 [03:15<00:00, 111.07it/s]\n"
     ]
    }
   ],
   "source": [
    "img =[boundary(i) for i in tqdm(images_g)]"
   ]
  },
  {
   "cell_type": "code",
   "execution_count": 7,
   "metadata": {},
   "outputs": [
    {
     "data": {
      "image/png": "[encoded data removed]",
      "text/plain": [
       "<Figure size 432x288 with 1 Axes>"
      ]
     },
     "metadata": {
      "needs_background": "light"
     },
     "output_type": "display_data"
    }
   ],
   "source": [
    "plt.imshow(img[2020],'gray')\n",
    "plt.show()"
   ]
  },
  {
   "cell_type": "code",
   "execution_count": 8,
   "metadata": {},
   "outputs": [
    {
     "data": {
      "text/plain": [
       "((21765, 128, 128, 1), dtype('uint8'))"
      ]
     },
     "execution_count": 8,
     "metadata": {},
     "output_type": "execute_result"
    }
   ],
   "source": [
    "import numpy as np\n",
    "ii = np.array(img).astype('uint8')\n",
    "ii = np.expand_dims(ii,axis=3)\n",
    "ii.shape, ii.dtype"
   ]
  },
  {
   "cell_type": "code",
   "execution_count": 9,
   "metadata": {},
   "outputs": [
    {
     "data": {
      "text/plain": [
       "((17412, 128, 128, 1), (4353, 128, 128, 1))"
      ]
     },
     "execution_count": 9,
     "metadata": {},
     "output_type": "execute_result"
    }
   ],
   "source": [
    "X = ii\n",
    "train = int(np.floor(X.shape[0] * 0.8))\n",
    "X_train = X[:train]\n",
    "X_test = X[train:]\n",
    "X_train.shape,X_test.shape"
   ]
  },
  {
   "cell_type": "code",
   "execution_count": 10,
   "metadata": {},
   "outputs": [],
   "source": [
    "np.save('X_train_bi',X_train)\n",
    "np.save('X_test_bi',X_test)"
   ]
  },
  {
   "cell_type": "code",
   "execution_count": null,
   "metadata": {},
   "outputs": [],
   "source": []
  }
 ],
 "metadata": {
  "kernelspec": {
   "display_name": "Python 3",
   "language": "python",
   "name": "python3"
  },
  "language_info": {
   "codemirror_mode": {
    "name": "ipython",
    "version": 3
   },
   "file_extension": ".py",
   "mimetype": "text/x-python",
   "name": "python",
   "nbconvert_exporter": "python",
   "pygments_lexer": "ipython3",
   "version": "3.8.5"
  }
 },
 "nbformat": 4,
 "nbformat_minor": 4
}
