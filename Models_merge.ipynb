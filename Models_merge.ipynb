{
 "cells": [
  {
   "cell_type": "code",
   "execution_count": 1,
   "metadata": {
    "executionInfo": {
     "elapsed": 2556,
     "status": "ok",
     "timestamp": 1610455287265,
     "user": {
      "displayName": "蘇昀呈",
      "photoUrl": "",
      "userId": "12930628252408939567"
     },
     "user_tz": -480
    },
    "id": "61QMeQUBRLRV"
   },
   "outputs": [],
   "source": [
    "%matplotlib inline\n",
    "import numpy as np\n",
    "import matplotlib.pyplot as plt\n",
    "from google.colab import drive\n",
    "import numpy as np\n",
    "np.random.seed(17)\n",
    "from keras.models import load_model"
   ]
  },
  {
   "cell_type": "code",
   "execution_count": 5,
   "metadata": {
    "executionInfo": {
     "elapsed": 9956,
     "status": "ok",
     "timestamp": 1610455314498,
     "user": {
      "displayName": "蘇昀呈",
      "photoUrl": "",
      "userId": "12930628252408939567"
     },
     "user_tz": -480
    },
    "id": "PZBS7KsBRqSV"
   },
   "outputs": [],
   "source": [
    "BW = load_model('malaria_BW.h5')"
   ]
  },
  {
   "cell_type": "code",
   "execution_count": 6,
   "metadata": {
    "executionInfo": {
     "elapsed": 12960,
     "status": "ok",
     "timestamp": 1610455318025,
     "user": {
      "displayName": "蘇昀呈",
      "photoUrl": "",
      "userId": "12930628252408939567"
     },
     "user_tz": -480
    },
    "id": "2LZcE_bXiwZ7"
   },
   "outputs": [],
   "source": [
    "RGB = load_model('malaria_cnn.h5')"
   ]
  },
  {
   "cell_type": "code",
   "execution_count": null,
   "metadata": {
    "colab": {
     "base_uri": "https://localhost:8080/"
    },
    "executionInfo": {
     "elapsed": 17507,
     "status": "ok",
     "timestamp": 1610373495106,
     "user": {
      "displayName": "蘇昀呈",
      "photoUrl": "",
      "userId": "12930628252408939567"
     },
     "user_tz": -480
    },
    "id": "StpZu2qgRqXs",
    "outputId": "96b523ec-8ee3-42a6-d4b6-1fb883860862"
   },
   "outputs": [
    {
     "data": {
      "text/plain": [
       "(((17412, 128, 128, 3), dtype('uint8')),\n",
       " ((17412, 128, 128, 1), dtype('uint8')),\n",
       " ((17412, 2), dtype('float32')))"
      ]
     },
     "execution_count": 6,
     "metadata": {
      "tags": []
     },
     "output_type": "execute_result"
    }
   ],
   "source": [
    "X_train = np.load('X_train.npy')\n",
    "X_train_BW = np.load('X_train_bi.npy')\n",
    "y_train = np.load('y_train.npy')\n",
    "(X_train.shape,X_train.dtype),(X_train_BW.shape,X_train_BW.dtype),(y_train.shape,y_train.dtype)"
   ]
  },
  {
   "cell_type": "code",
   "execution_count": 7,
   "metadata": {
    "executionInfo": {
     "elapsed": 1420,
     "status": "ok",
     "timestamp": 1610455320883,
     "user": {
      "displayName": "蘇昀呈",
      "photoUrl": "",
      "userId": "12930628252408939567"
     },
     "user_tz": -480
    },
    "id": "vhsDYsSeRqaE"
   },
   "outputs": [],
   "source": [
    "import tensorflow as tf"
   ]
  },
  {
   "cell_type": "code",
   "execution_count": 8,
   "metadata": {
    "colab": {
     "base_uri": "https://localhost:8080/"
    },
    "executionInfo": {
     "elapsed": 1492,
     "status": "ok",
     "timestamp": 1610455329572,
     "user": {
      "displayName": "蘇昀呈",
      "photoUrl": "",
      "userId": "12930628252408939567"
     },
     "user_tz": -480
    },
    "id": "Y6UbbgX1jCpC",
    "outputId": "15447240-cacc-40db-844d-e605bfaae205"
   },
   "outputs": [
    {
     "name": "stdout",
     "output_type": "stream",
     "text": [
      "Model: \"model\"\n",
      "__________________________________________________________________________________________________\n",
      "Layer (type)                    Output Shape         Param #     Connected to                     \n",
      "==================================================================================================\n",
      "RGB (InputLayer)                [(None, 128, 128, 3) 0                                            \n",
      "__________________________________________________________________________________________________\n",
      "BW (InputLayer)                 [(None, 128, 128, 1) 0                                            \n",
      "__________________________________________________________________________________________________\n",
      "sequential_2 (Sequential)       (None, 2)            1658022     RGB[0][0]                        \n",
      "__________________________________________________________________________________________________\n",
      "sequential_7 (Sequential)       (None, 2)            1636838     BW[0][0]                         \n",
      "__________________________________________________________________________________________________\n",
      "add (Add)                       (None, 2)            0           sequential_2[0][0]               \n",
      "                                                                 sequential_7[0][0]               \n",
      "==================================================================================================\n",
      "Total params: 3,294,860\n",
      "Trainable params: 0\n",
      "Non-trainable params: 3,294,860\n",
      "__________________________________________________________________________________________________\n",
      "None\n"
     ]
    }
   ],
   "source": [
    "In1 = tf.keras.layers.Input(shape=(128,128,3),name='RGB')\n",
    "In2 = tf.keras.layers.Input(shape=(128,128,1),name='BW')\n",
    "output_RGB = RGB(In1)\n",
    "output_BW = BW(In2)\n",
    "Add = tf.keras.layers.add(inputs=[output_RGB,output_BW])\n",
    "model =tf.keras.Model(inputs = [In1,In2],outputs =Add)\n",
    "model.layers[2].trainable = False\n",
    "model.layers[3].trainable = False\n",
    "print(model.summary())"
   ]
  },
  {
   "cell_type": "code",
   "execution_count": 9,
   "metadata": {
    "executionInfo": {
     "elapsed": 1252,
     "status": "ok",
     "timestamp": 1610455345691,
     "user": {
      "displayName": "蘇昀呈",
      "photoUrl": "",
      "userId": "12930628252408939567"
     },
     "user_tz": -480
    },
    "id": "_9K16fgblEB8"
   },
   "outputs": [],
   "source": [
    "from sklearn.metrics import classification_report\n",
    "import itertools\n",
    "from sklearn.metrics import confusion_matrix"
   ]
  },
  {
   "cell_type": "code",
   "execution_count": 10,
   "metadata": {
    "colab": {
     "base_uri": "https://localhost:8080/"
    },
    "executionInfo": {
     "elapsed": 3893,
     "status": "ok",
     "timestamp": 1610455350150,
     "user": {
      "displayName": "蘇昀呈",
      "photoUrl": "",
      "userId": "12930628252408939567"
     },
     "user_tz": -480
    },
    "id": "mGb7Feczlal6",
    "outputId": "6084ccb0-0723-4cac-e8a0-75d13c8627d0"
   },
   "outputs": [
    {
     "data": {
      "text/plain": [
       "(((4353, 128, 128, 3), dtype('uint8')),\n",
       " ((4353, 128, 128, 1), dtype('uint8')),\n",
       " ((4353, 2), dtype('float32')))"
      ]
     },
     "execution_count": 10,
     "metadata": {
      "tags": []
     },
     "output_type": "execute_result"
    }
   ],
   "source": [
    "X_test = np.load('X_test.npy')\n",
    "X_test_BW = np.load('X_test_bi.npy')\n",
    "y_test = np.load('y_test.npy')\n",
    "(X_test.shape,X_test.dtype),(X_test_BW.shape,X_test_BW.dtype),(y_test.shape,y_test.dtype)"
   ]
  },
  {
   "cell_type": "code",
   "execution_count": 82,
   "metadata": {
    "executionInfo": {
     "elapsed": 679,
     "status": "ok",
     "timestamp": 1610457585715,
     "user": {
      "displayName": "蘇昀呈",
      "photoUrl": "",
      "userId": "12930628252408939567"
     },
     "user_tz": -480
    },
    "id": "K343V2S5lEKZ"
   },
   "outputs": [],
   "source": [
    "def plot_confusion_matrix(cnf_matrix,classes,normalize=False,title='Confusion matrix',cmap=plt.cm.Blues):\n",
    "    \"\"\"\n",
    "    This function prints and plots the confusion matrix.\n",
    "    Normalization can be applied by setting `normalize=True`.\n",
    "    \"\"\"\n",
    "    if normalize:\n",
    "        cm = cnf_matrix.astype('float') / cnf_matrix.sum(axis=1)[:, np.newaxis]\n",
    "        print(\"Normalized confusion matrix\")\n",
    "    else:\n",
    "        print('Confusion matrix, without normalization')\n",
    "\n",
    "    print(cm)\n",
    "\n",
    "    plt.imshow(cm, interpolation='nearest', cmap=cmap)\n",
    "    plt.title(title)\n",
    "    plt.colorbar()\n",
    "    tick_marks = np.arange(len(classes))\n",
    "    plt.xticks(tick_marks, classes, rotation=45)\n",
    "    plt.yticks(tick_marks, classes)\n",
    "\n",
    "    fmt = '.2f' if normalize else 'd'\n",
    "    thresh = cm.max() / 2.\n",
    "    for i, j in itertools.product(range(cm.shape[0]), range(cm.shape[1])):\n",
    "        plt.text(j, i, format(cm[i, j], fmt),\n",
    "                 fontsize=14,\n",
    "                 horizontalalignment=\"center\",\n",
    "                 verticalalignment = 'bottom',\n",
    "                 color=\"white\" if cm[i, j] > thresh else \"black\")\n",
    "        plt.text(j, i, '{}{}{}'.format('(',cnf_matrix[i, j],')'),\n",
    "                 horizontalalignment=\"center\",\n",
    "                 fontsize=10,\n",
    "                 verticalalignment = 'top',\n",
    "                 color=\"white\" if cm[i, j] > thresh else \"black\")\n",
    "\n",
    "    plt.ylabel('True label')\n",
    "    plt.xlabel('Predicted label')\n",
    "    plt.tight_layout()"
   ]
  },
  {
   "cell_type": "code",
   "execution_count": 18,
   "metadata": {
    "executionInfo": {
     "elapsed": 1668,
     "status": "ok",
     "timestamp": 1610455626444,
     "user": {
      "displayName": "蘇昀呈",
      "photoUrl": "",
      "userId": "12930628252408939567"
     },
     "user_tz": -480
    },
    "id": "4PGz6hMxlHpt"
   },
   "outputs": [],
   "source": [
    "y_predict = model.predict([X_test,X_test_BW], batch_size=None, verbose=0, steps=None)"
   ]
  },
  {
   "cell_type": "code",
   "execution_count": 60,
   "metadata": {
    "executionInfo": {
     "elapsed": 655,
     "status": "ok",
     "timestamp": 1610457019739,
     "user": {
      "displayName": "蘇昀呈",
      "photoUrl": "",
      "userId": "12930628252408939567"
     },
     "user_tz": -480
    },
    "id": "D6j3QtSQlH0I"
   },
   "outputs": [],
   "source": [
    "y_pred = np.argmax(y_predict,axis=1)\n",
    "y_true = np.argmax(y_test,axis=1)"
   ]
  },
  {
   "cell_type": "code",
   "execution_count": 83,
   "metadata": {
    "colab": {
     "base_uri": "https://localhost:8080/",
     "height": 348
    },
    "executionInfo": {
     "elapsed": 737,
     "status": "ok",
     "timestamp": 1610457587725,
     "user": {
      "displayName": "蘇昀呈",
      "photoUrl": "",
      "userId": "12930628252408939567"
     },
     "user_tz": -480
    },
    "id": "7go2Y_BIlT3B",
    "outputId": "6544e758-7a76-48d7-ba36-517d29730bc6"
   },
   "outputs": [
    {
     "name": "stdout",
     "output_type": "stream",
     "text": [
      "Normalized confusion matrix\n",
      "[[0.95582878 0.04417122]\n",
      " [0.04450626 0.95549374]]\n"
     ]
    },
    {
     "data": {
      "image/png": "[encoded data removed]",
      "text/plain": [
       "<Figure size 432x288 with 2 Axes>"
      ]
     },
     "metadata": {
      "needs_background": "light",
      "tags": []
     },
     "output_type": "display_data"
    }
   ],
   "source": [
    "target_names = ['Health','Infected']\n",
    "plt.figure()\n",
    "cnf_matrix = confusion_matrix(y_true, y_pred)\n",
    "plot_confusion_matrix(cnf_matrix, classes=target_names,normalize=True)\n",
    "plt.show()"
   ]
  },
  {
   "cell_type": "code",
   "execution_count": null,
   "metadata": {
    "id": "YlxpqazUZltz"
   },
   "outputs": [],
   "source": [
    "model.save('malaria_final.h5')"
   ]
  }
 ],
 "metadata": {
  "accelerator": "GPU",
  "colab": {
   "authorship_tag": "ABX9TyPojp8beMgY0XtG2HEh3vcV",
   "name": "malariaBW+RGB.ipynb",
   "provenance": []
  },
  "kernelspec": {
   "display_name": "Python 3",
   "language": "python",
   "name": "python3"
  },
  "language_info": {
   "codemirror_mode": {
    "name": "ipython",
    "version": 3
   },
   "file_extension": ".py",
   "mimetype": "text/x-python",
   "name": "python",
   "nbconvert_exporter": "python",
   "pygments_lexer": "ipython3",
   "version": "3.8.5"
  }
 },
 "nbformat": 4,
 "nbformat_minor": 1
}
