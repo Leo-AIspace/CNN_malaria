{
 "cells": [
  {
   "cell_type": "code",
   "execution_count": 1,
   "metadata": {
    "executionInfo": {
     "elapsed": 809,
     "status": "ok",
     "timestamp": 1610369579852,
     "user": {
      "displayName": "蘇昀呈",
      "photoUrl": "",
      "userId": "12930628252408939567"
     },
     "user_tz": -480
    },
    "id": "SJPGwSb8zdAU"
   },
   "outputs": [],
   "source": [
    "%matplotlib inline\n",
    "import numpy as np\n",
    "import matplotlib.pyplot as plt\n",
    "from google.colab import drive\n",
    "import numpy as np\n",
    "np.random.seed(17)"
   ]
  },
  {
   "cell_type": "code",
   "execution_count": 5,
   "metadata": {
    "colab": {
     "base_uri": "https://localhost:8080/"
    },
    "executionInfo": {
     "elapsed": 967,
     "status": "ok",
     "timestamp": 1610369582393,
     "user": {
      "displayName": "蘇昀呈",
      "photoUrl": "",
      "userId": "12930628252408939567"
     },
     "user_tz": -480
    },
    "id": "LYsdbRx0zxzf",
    "outputId": "3e27d625-beb4-4b49-b2a8-e6bd19726e3a"
   },
   "outputs": [
    {
     "data": {
      "text/plain": [
       "(((17412, 128, 128, 1), dtype('uint8')), ((17412, 2), dtype('float32')))"
      ]
     },
     "execution_count": 5,
     "metadata": {
      "tags": []
     },
     "output_type": "execute_result"
    }
   ],
   "source": [
    "X_train = np.load('X_train_bi.npy')\n",
    "y_train = np.load('y_train.npy')\n",
    "(X_train.shape,X_train.dtype),(y_train.shape,y_train.dtype)"
   ]
  },
  {
   "cell_type": "code",
   "execution_count": 38,
   "metadata": {
    "executionInfo": {
     "elapsed": 665,
     "status": "ok",
     "timestamp": 1610370160365,
     "user": {
      "displayName": "蘇昀呈",
      "photoUrl": "",
      "userId": "12930628252408939567"
     },
     "user_tz": -480
    },
    "id": "VRDAQuFnzx2m"
   },
   "outputs": [],
   "source": [
    "import tensorflow as tf\n",
    "from keras import Sequential\n",
    "from keras.layers import Conv2D,MaxPool2D,Dense,Flatten,Dropout\n",
    "from keras.optimizers import Adam,RMSprop"
   ]
  },
  {
   "cell_type": "code",
   "execution_count": 39,
   "metadata": {
    "executionInfo": {
     "elapsed": 949,
     "status": "ok",
     "timestamp": 1610370161913,
     "user": {
      "displayName": "蘇昀呈",
      "photoUrl": "",
      "userId": "12930628252408939567"
     },
     "user_tz": -480
    },
    "id": "o_3t-gQdzx5P"
   },
   "outputs": [],
   "source": [
    " optimizer =Adam(lr =8e-5) "
   ]
  },
  {
   "cell_type": "code",
   "execution_count": 41,
   "metadata": {
    "colab": {
     "base_uri": "https://localhost:8080/"
    },
    "executionInfo": {
     "elapsed": 1296,
     "status": "ok",
     "timestamp": 1610370167186,
     "user": {
      "displayName": "蘇昀呈",
      "photoUrl": "",
      "userId": "12930628252408939567"
     },
     "user_tz": -480
    },
    "id": "wJSb5_xHzx8E",
    "outputId": "c04beabc-b525-4ff8-e62f-ccdcbb04e38a"
   },
   "outputs": [
    {
     "name": "stdout",
     "output_type": "stream",
     "text": [
      "Model: \"sequential_3\"\n",
      "_________________________________________________________________\n",
      "Layer (type)                 Output Shape              Param #   \n",
      "=================================================================\n",
      "conv2d_6 (Conv2D)            (None, 64, 64, 36)        1332      \n",
      "_________________________________________________________________\n",
      "max_pooling2d_6 (MaxPooling2 (None, 16, 16, 36)        0         \n",
      "_________________________________________________________________\n",
      "conv2d_7 (Conv2D)            (None, 8, 8, 48)          62256     \n",
      "_________________________________________________________________\n",
      "max_pooling2d_7 (MaxPooling2 (None, 4, 4, 48)          0         \n",
      "_________________________________________________________________\n",
      "flatten_3 (Flatten)          (None, 768)               0         \n",
      "_________________________________________________________________\n",
      "dropout_6 (Dropout)          (None, 768)               0         \n",
      "_________________________________________________________________\n",
      "dense_6 (Dense)              (None, 128)               98432     \n",
      "_________________________________________________________________\n",
      "dropout_7 (Dropout)          (None, 128)               0         \n",
      "_________________________________________________________________\n",
      "dense_7 (Dense)              (None, 2)                 258       \n",
      "=================================================================\n",
      "Total params: 162,278\n",
      "Trainable params: 162,278\n",
      "Non-trainable params: 0\n",
      "_________________________________________________________________\n",
      "None\n"
     ]
    }
   ],
   "source": [
    "model = tf.keras.Sequential()\n",
    "\n",
    "model.add(tf.keras.layers.Conv2D(filters=36,\n",
    "                 kernel_size=(6,6),\n",
    "                 padding='same',\n",
    "                 strides=2,\n",
    "                 input_shape=(128,128,1), \n",
    "                 activation='relu'))\n",
    "model.add(tf.keras.layers.MaxPooling2D(pool_size=(4, 4)))\n",
    "\n",
    "model.add(tf.keras.layers.Conv2D(filters=48,\n",
    "                 kernel_size=(6,6),\n",
    "                 padding='same',\n",
    "                 activation='relu'))\n",
    "model.add(tf.keras.layers.MaxPooling2D(pool_size=(2, 2)))\n",
    "\n",
    "model.add(tf.keras.layers.Flatten())\n",
    "model.add(tf.keras.layers.Dropout(0.5))\n",
    "model.add(tf.keras.layers.Dense(128, activation='relu'))\n",
    "model.add(tf.keras.layers.Dropout(0.5))\n",
    "model.add(tf.keras.layers.Dense(2,activation='softmax'))\n",
    "print(model.summary())"
   ]
  },
  {
   "cell_type": "code",
   "execution_count": 42,
   "metadata": {
    "executionInfo": {
     "elapsed": 750,
     "status": "ok",
     "timestamp": 1610370169241,
     "user": {
      "displayName": "蘇昀呈",
      "photoUrl": "",
      "userId": "12930628252408939567"
     },
     "user_tz": -480
    },
    "id": "gImMQoQTzx-c"
   },
   "outputs": [],
   "source": [
    "model.compile(optimizer=optimizer, loss='categorical_crossentropy', metrics=['accuracy']) #"
   ]
  },
  {
   "cell_type": "code",
   "execution_count": 43,
   "metadata": {
    "colab": {
     "base_uri": "https://localhost:8080/"
    },
    "executionInfo": {
     "elapsed": 74998,
     "status": "ok",
     "timestamp": 1610370245121,
     "user": {
      "displayName": "蘇昀呈",
      "photoUrl": "",
      "userId": "12930628252408939567"
     },
     "user_tz": -480
    },
    "id": "gCJyNZyr0SUz",
    "outputId": "9147dd0f-7d43-4606-970f-78d6fe26eb28"
   },
   "outputs": [
    {
     "name": "stdout",
     "output_type": "stream",
     "text": [
      "Epoch 1/13\n",
      "1742/1742 [==============================] - 6s 3ms/step - loss: 0.5526 - accuracy: 0.7458 - val_loss: 0.3113 - val_accuracy: 0.8852\n",
      "Epoch 2/13\n",
      "1742/1742 [==============================] - 6s 3ms/step - loss: 0.3574 - accuracy: 0.8597 - val_loss: 0.2824 - val_accuracy: 0.8932\n",
      "Epoch 3/13\n",
      "1742/1742 [==============================] - 6s 3ms/step - loss: 0.3162 - accuracy: 0.8796 - val_loss: 0.2716 - val_accuracy: 0.8989\n",
      "Epoch 4/13\n",
      "1742/1742 [==============================] - 6s 3ms/step - loss: 0.3014 - accuracy: 0.8868 - val_loss: 0.2607 - val_accuracy: 0.9027\n",
      "Epoch 5/13\n",
      "1742/1742 [==============================] - 6s 3ms/step - loss: 0.2874 - accuracy: 0.8937 - val_loss: 0.2527 - val_accuracy: 0.9098\n",
      "Epoch 6/13\n",
      "1742/1742 [==============================] - 6s 3ms/step - loss: 0.2652 - accuracy: 0.9024 - val_loss: 0.2412 - val_accuracy: 0.9136\n",
      "Epoch 7/13\n",
      "1742/1742 [==============================] - 6s 3ms/step - loss: 0.2680 - accuracy: 0.9022 - val_loss: 0.2346 - val_accuracy: 0.9165\n",
      "Epoch 8/13\n",
      "1742/1742 [==============================] - 6s 3ms/step - loss: 0.2583 - accuracy: 0.9104 - val_loss: 0.2293 - val_accuracy: 0.9210\n",
      "Epoch 9/13\n",
      "1742/1742 [==============================] - 6s 3ms/step - loss: 0.2484 - accuracy: 0.9174 - val_loss: 0.2201 - val_accuracy: 0.9254\n",
      "Epoch 10/13\n",
      "1742/1742 [==============================] - 6s 3ms/step - loss: 0.2405 - accuracy: 0.9212 - val_loss: 0.2178 - val_accuracy: 0.9254\n",
      "Epoch 11/13\n",
      "1742/1742 [==============================] - 6s 3ms/step - loss: 0.2318 - accuracy: 0.9220 - val_loss: 0.2132 - val_accuracy: 0.9271\n",
      "Epoch 12/13\n",
      "1742/1742 [==============================] - 6s 3ms/step - loss: 0.2185 - accuracy: 0.9272 - val_loss: 0.2120 - val_accuracy: 0.9311\n",
      "Epoch 13/13\n",
      "1742/1742 [==============================] - 6s 3ms/step - loss: 0.2118 - accuracy: 0.9316 - val_loss: 0.2031 - val_accuracy: 0.9337\n"
     ]
    }
   ],
   "source": [
    "train_history = model.fit(X_train,y_train,batch_size=8,epochs=10,verbose=1,validation_split=0.2)"
   ]
  },
  {
   "cell_type": "code",
   "execution_count": 44,
   "metadata": {
    "executionInfo": {
     "elapsed": 683,
     "status": "ok",
     "timestamp": 1610370247903,
     "user": {
      "displayName": "蘇昀呈",
      "photoUrl": "",
      "userId": "12930628252408939567"
     },
     "user_tz": -480
    },
    "id": "hbCOhN570SZN"
   },
   "outputs": [],
   "source": [
    "import matplotlib.pyplot as plt\n",
    "def show_train_history(train_acc,test_acc):\n",
    "    plt.plot(train_history.history[train_acc])\n",
    "    plt.plot(train_history.history[test_acc])\n",
    "    plt.title('Train History')\n",
    "    plt.ylabel('Accuracy/loss')\n",
    "    plt.xlabel('Epoch')\n",
    "    plt.legend(['train', 'test'], loc='upper left')\n",
    "    plt.show()"
   ]
  },
  {
   "cell_type": "code",
   "execution_count": 45,
   "metadata": {
    "colab": {
     "base_uri": "https://localhost:8080/",
     "height": 295
    },
    "executionInfo": {
     "elapsed": 910,
     "status": "ok",
     "timestamp": 1610370248961,
     "user": {
      "displayName": "蘇昀呈",
      "photoUrl": "",
      "userId": "12930628252408939567"
     },
     "user_tz": -480
    },
    "id": "4WErtdrY0ckZ",
    "outputId": "f9351a58-8fb1-46da-9385-5d8a7ba6b447"
   },
   "outputs": [
    {
     "data": {
      "image/png": "[encoded data removed]",
      "text/plain": [
       "<Figure size 432x288 with 1 Axes>"
      ]
     },
     "metadata": {
      "needs_background": "light",
      "tags": []
     },
     "output_type": "display_data"
    }
   ],
   "source": [
    "show_train_history('accuracy','val_accuracy')"
   ]
  },
  {
   "cell_type": "code",
   "execution_count": 46,
   "metadata": {
    "colab": {
     "base_uri": "https://localhost:8080/",
     "height": 295
    },
    "executionInfo": {
     "elapsed": 854,
     "status": "ok",
     "timestamp": 1610370250884,
     "user": {
      "displayName": "蘇昀呈",
      "photoUrl": "",
      "userId": "12930628252408939567"
     },
     "user_tz": -480
    },
    "id": "BAEep-vZ0cnK",
    "outputId": "87095276-dcdd-48e5-e6e4-3c3937cac55f"
   },
   "outputs": [
    {
     "data": {
      "image/png": "[encoded data removed]",
      "text/plain": [
       "<Figure size 432x288 with 1 Axes>"
      ]
     },
     "metadata": {
      "needs_background": "light",
      "tags": []
     },
     "output_type": "display_data"
    }
   ],
   "source": [
    "show_train_history('loss','val_loss')"
   ]
  },
  {
   "cell_type": "code",
   "execution_count": 47,
   "metadata": {
    "colab": {
     "base_uri": "https://localhost:8080/"
    },
    "executionInfo": {
     "elapsed": 815,
     "status": "ok",
     "timestamp": 1610370252713,
     "user": {
      "displayName": "蘇昀呈",
      "photoUrl": "",
      "userId": "12930628252408939567"
     },
     "user_tz": -480
    },
    "id": "spspVLWH0mrR",
    "outputId": "beae21a0-2387-4eb4-cdd2-5c4f3f9bb2cf"
   },
   "outputs": [
    {
     "data": {
      "text/plain": [
       "(((4353, 128, 128, 1), dtype('uint8')), ((4353, 2), dtype('float32')))"
      ]
     },
     "execution_count": 47,
     "metadata": {
      "tags": []
     },
     "output_type": "execute_result"
    }
   ],
   "source": [
    "X_test = np.load('X_test_bi.npy')\n",
    "y_test = np.load('y_test.npy')\n",
    "(X_test.shape,X_test.dtype),(y_test.shape,y_test.dtype)"
   ]
  },
  {
   "cell_type": "code",
   "execution_count": 48,
   "metadata": {
    "colab": {
     "base_uri": "https://localhost:8080/"
    },
    "executionInfo": {
     "elapsed": 904,
     "status": "ok",
     "timestamp": 1610370254281,
     "user": {
      "displayName": "蘇昀呈",
      "photoUrl": "",
      "userId": "12930628252408939567"
     },
     "user_tz": -480
    },
    "id": "atkUuDg30mug",
    "outputId": "f09de667-409f-4d4a-cc6a-931147b8f8fe"
   },
   "outputs": [
    {
     "name": "stdout",
     "output_type": "stream",
     "text": [
      "137/137 [==============================] - 0s 3ms/step - loss: 0.2149 - accuracy: 0.9336\n",
      "loss:  0.21487368643283844 accuracy:  0.9336090087890625\n"
     ]
    }
   ],
   "source": [
    "eva = model.evaluate(X_test,y_test)\n",
    "print('loss: ',eva[0],'accuracy: ',eva[1])"
   ]
  },
  {
   "cell_type": "code",
   "execution_count": 32,
   "metadata": {
    "executionInfo": {
     "elapsed": 678,
     "status": "ok",
     "timestamp": 1610369454976,
     "user": {
      "displayName": "蘇昀呈",
      "photoUrl": "",
      "userId": "12930628252408939567"
     },
     "user_tz": -480
    },
    "id": "R4FbVIFbHj1R"
   },
   "outputs": [],
   "source": [
    "model.save('malaria_BW.h5')"
   ]
  }
 ],
 "metadata": {
  "accelerator": "GPU",
  "colab": {
   "authorship_tag": "ABX9TyM2AxCAZjQ6NvYCrm/oVCln",
   "name": "malaria_BW.ipynb",
   "provenance": []
  },
  "kernelspec": {
   "display_name": "Python 3",
   "language": "python",
   "name": "python3"
  },
  "language_info": {
   "codemirror_mode": {
    "name": "ipython",
    "version": 3
   },
   "file_extension": ".py",
   "mimetype": "text/x-python",
   "name": "python",
   "nbconvert_exporter": "python",
   "pygments_lexer": "ipython3",
   "version": "3.8.5"
  }
 },
 "nbformat": 4,
 "nbformat_minor": 1
}
