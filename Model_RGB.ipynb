{
 "cells": [
  {
   "cell_type": "code",
   "execution_count": 1,
   "metadata": {
    "executionInfo": {
     "elapsed": 2221,
     "status": "ok",
     "timestamp": 1610372768289,
     "user": {
      "displayName": "蘇昀呈",
      "photoUrl": "",
      "userId": "12930628252408939567"
     },
     "user_tz": -480
    },
    "id": "JOdED7p0h_0J"
   },
   "outputs": [],
   "source": [
    "%matplotlib inline\n",
    "import numpy as np\n",
    "import matplotlib.pyplot as plt\n",
    "from google.colab import drive\n",
    "import numpy as np\n",
    "np.random.seed(17)"
   ]
  },
  {
   "cell_type": "code",
   "execution_count": 5,
   "metadata": {
    "colab": {
     "base_uri": "https://localhost:8080/"
    },
    "executionInfo": {
     "elapsed": 14482,
     "status": "ok",
     "timestamp": 1610372808536,
     "user": {
      "displayName": "蘇昀呈",
      "photoUrl": "",
      "userId": "12930628252408939567"
     },
     "user_tz": -480
    },
    "id": "wk0TQ3iBisSy",
    "outputId": "45dbe904-a953-4c48-ada5-cf494b70cdfa"
   },
   "outputs": [
    {
     "data": {
      "text/plain": [
       "(((17412, 128, 128, 3), dtype('uint8')), ((17412, 2), dtype('float32')))"
      ]
     },
     "execution_count": 5,
     "metadata": {
      "tags": []
     },
     "output_type": "execute_result"
    }
   ],
   "source": [
    "X_train = np.load('X_train.npy')\n",
    "y_train = np.load('y_train.npy')\n",
    "(X_train.shape,X_train.dtype),(y_train.shape,y_train.dtype)"
   ]
  },
  {
   "cell_type": "code",
   "execution_count": 6,
   "metadata": {
    "executionInfo": {
     "elapsed": 2949,
     "status": "ok",
     "timestamp": 1610372840498,
     "user": {
      "displayName": "蘇昀呈",
      "photoUrl": "",
      "userId": "12930628252408939567"
     },
     "user_tz": -480
    },
    "id": "zksjk99ljtch"
   },
   "outputs": [],
   "source": [
    "from keras import Sequential\n",
    "from keras.layers import Conv2D,MaxPool2D,Dense,Flatten,Dropout\n",
    "from keras.optimizers import Adam\n",
    "import tensorflow as tf"
   ]
  },
  {
   "cell_type": "code",
   "execution_count": 7,
   "metadata": {
    "executionInfo": {
     "elapsed": 685,
     "status": "ok",
     "timestamp": 1610372841768,
     "user": {
      "displayName": "蘇昀呈",
      "photoUrl": "",
      "userId": "12930628252408939567"
     },
     "user_tz": -480
    },
    "id": "yu1q0lxZ5EwQ"
   },
   "outputs": [],
   "source": [
    "class LearningRateScheduler(tf.keras.callbacks.Callback):\n",
    "    def __init__(self, schedule):\n",
    "        super(LearningRateScheduler, self).__init__()\n",
    "        self.schedule = schedule\n",
    "\n",
    "    def on_epoch_begin(self, epoch, logs=None):\n",
    "        if not hasattr(self.model.optimizer, 'lr'):\n",
    "            raise ValueError('Optimizer must have a \"lr\" attribute.')\n",
    "        # Get the current learning rate from model's optimizer.\n",
    "        lr = float(tf.keras.backend.get_value(self.model.optimizer.lr))\n",
    "        # Call schedule function to get the scheduled learning rate.\n",
    "        scheduled_lr = self.schedule(epoch, lr)\n",
    "        # Set the value back to the optimizer before this epoch starts\n",
    "        tf.keras.backend.set_value(self.model.optimizer.lr, scheduled_lr)\n",
    "        print('\\nEpoch %05d: Learning rate is %6.6f.' % (epoch, scheduled_lr))"
   ]
  },
  {
   "cell_type": "code",
   "execution_count": 9,
   "metadata": {
    "executionInfo": {
     "elapsed": 1024,
     "status": "ok",
     "timestamp": 1610372899401,
     "user": {
      "displayName": "蘇昀呈",
      "photoUrl": "",
      "userId": "12930628252408939567"
     },
     "user_tz": -480
    },
    "id": "RI4WFLVj5E7O"
   },
   "outputs": [],
   "source": [
    "LR_SCHEDULE = [\n",
    "    # (epoch to start, learning rate) tuples\n",
    "    (2, 1e-3), (5, 6e-4), (8, 2e-4), (12, 8e-5)\n",
    "]\n",
    "\n",
    "def lr_schedule(epoch, lr):\n",
    "    if epoch < LR_SCHEDULE[0][0] or epoch > LR_SCHEDULE[-1][0]:\n",
    "        return lr\n",
    "    for i in range(len(LR_SCHEDULE)):\n",
    "        if epoch == LR_SCHEDULE[i][0]:\n",
    "            return LR_SCHEDULE[i][1]\n",
    "    return lr"
   ]
  },
  {
   "cell_type": "code",
   "execution_count": 10,
   "metadata": {
    "colab": {
     "base_uri": "https://localhost:8080/"
    },
    "executionInfo": {
     "elapsed": 6545,
     "status": "ok",
     "timestamp": 1610372915832,
     "user": {
      "displayName": "蘇昀呈",
      "photoUrl": "",
      "userId": "12930628252408939567"
     },
     "user_tz": -480
    },
    "id": "u8NzAdk558EX",
    "outputId": "a6211f1b-cd4e-41a7-e4e2-82da840785f7"
   },
   "outputs": [
    {
     "name": "stdout",
     "output_type": "stream",
     "text": [
      "Model: \"sequential\"\n",
      "_________________________________________________________________\n",
      "Layer (type)                 Output Shape              Param #   \n",
      "=================================================================\n",
      "conv2d (Conv2D)              (None, 128, 128, 16)      1744      \n",
      "_________________________________________________________________\n",
      "max_pooling2d (MaxPooling2D) (None, 64, 64, 16)        0         \n",
      "_________________________________________________________________\n",
      "conv2d_1 (Conv2D)            (None, 64, 64, 36)        20772     \n",
      "_________________________________________________________________\n",
      "max_pooling2d_1 (MaxPooling2 (None, 32, 32, 36)        0         \n",
      "_________________________________________________________________\n",
      "conv2d_2 (Conv2D)            (None, 32, 32, 48)        62256     \n",
      "_________________________________________________________________\n",
      "max_pooling2d_2 (MaxPooling2 (None, 16, 16, 48)        0         \n",
      "_________________________________________________________________\n",
      "flatten (Flatten)            (None, 12288)             0         \n",
      "_________________________________________________________________\n",
      "dropout (Dropout)            (None, 12288)             0         \n",
      "_________________________________________________________________\n",
      "dense (Dense)                (None, 128)               1572992   \n",
      "_________________________________________________________________\n",
      "dropout_1 (Dropout)          (None, 128)               0         \n",
      "_________________________________________________________________\n",
      "dense_1 (Dense)              (None, 2)                 258       \n",
      "=================================================================\n",
      "Total params: 1,658,022\n",
      "Trainable params: 1,658,022\n",
      "Non-trainable params: 0\n",
      "_________________________________________________________________\n",
      "None\n"
     ]
    }
   ],
   "source": [
    "model = tf.keras.Sequential()\n",
    "model.add(tf.keras.layers.Conv2D(filters=16,\n",
    "                 kernel_size=(6,6),\n",
    "                 padding='same',\n",
    "                 input_shape=(128,128,3), \n",
    "                 activation='relu'))\n",
    "model.add(tf.keras.layers.MaxPooling2D(pool_size=(2, 2)))\n",
    "\n",
    "model.add(tf.keras.layers.Conv2D(filters=36,\n",
    "                 kernel_size=(6,6),\n",
    "                 padding='same',\n",
    "                 activation='relu'))\n",
    "model.add(tf.keras.layers.MaxPooling2D(pool_size=(2, 2)))\n",
    "\n",
    "model.add(tf.keras.layers.Conv2D(filters=48,\n",
    "                 kernel_size=(6,6),\n",
    "                 padding='same',\n",
    "                 activation='relu'))\n",
    "model.add(tf.keras.layers.MaxPooling2D(pool_size=(2, 2)))\n",
    "\n",
    "model.add(tf.keras.layers.Flatten())\n",
    "model.add(tf.keras.layers.Dropout(0.5))\n",
    "model.add(tf.keras.layers.Dense(128, activation='relu'))\n",
    "model.add(tf.keras.layers.Dropout(0.5))\n",
    "model.add(tf.keras.layers.Dense(2,activation='softmax'))\n",
    "print(model.summary())"
   ]
  },
  {
   "cell_type": "code",
   "execution_count": 11,
   "metadata": {
    "colab": {
     "base_uri": "https://localhost:8080/"
    },
    "executionInfo": {
     "elapsed": 411325,
     "status": "ok",
     "timestamp": 1610373329747,
     "user": {
      "displayName": "蘇昀呈",
      "photoUrl": "",
      "userId": "12930628252408939567"
     },
     "user_tz": -480
    },
    "id": "qwJmzW8JmEvz",
    "outputId": "d2fa73dc-ea1a-45df-e870-25b88701a7a1"
   },
   "outputs": [
    {
     "name": "stdout",
     "output_type": "stream",
     "text": [
      "Epoch 1/16\n",
      "\n",
      "Epoch 00000: Learning rate is 0.000001.\n",
      "871/871 [==============================] - 32s 30ms/step - loss: 21.5972 - accuracy: 0.5059 - val_loss: 2.0601 - val_accuracy: 0.5515\n",
      "Epoch 2/16\n",
      "\n",
      "Epoch 00001: Learning rate is 0.000001.\n",
      "871/871 [==============================] - 25s 29ms/step - loss: 10.4546 - accuracy: 0.5104 - val_loss: 1.1439 - val_accuracy: 0.5670\n",
      "Epoch 3/16\n",
      "\n",
      "Epoch 00002: Learning rate is 0.001000.\n",
      "871/871 [==============================] - 25s 29ms/step - loss: 1.3005 - accuracy: 0.5500 - val_loss: 0.6374 - val_accuracy: 0.6342\n",
      "Epoch 4/16\n",
      "\n",
      "Epoch 00003: Learning rate is 0.001000.\n",
      "871/871 [==============================] - 25s 29ms/step - loss: 0.5841 - accuracy: 0.6739 - val_loss: 0.2379 - val_accuracy: 0.9400\n",
      "Epoch 5/16\n",
      "\n",
      "Epoch 00004: Learning rate is 0.001000.\n",
      "871/871 [==============================] - 25s 29ms/step - loss: 0.2663 - accuracy: 0.9186 - val_loss: 0.2123 - val_accuracy: 0.9512\n",
      "Epoch 6/16\n",
      "\n",
      "Epoch 00005: Learning rate is 0.000600.\n",
      "871/871 [==============================] - 25s 29ms/step - loss: 0.1863 - accuracy: 0.9424 - val_loss: 0.2115 - val_accuracy: 0.9440\n",
      "Epoch 7/16\n",
      "\n",
      "Epoch 00006: Learning rate is 0.000600.\n",
      "871/871 [==============================] - 25s 29ms/step - loss: 0.1797 - accuracy: 0.9423 - val_loss: 0.1556 - val_accuracy: 0.9532\n",
      "Epoch 8/16\n",
      "\n",
      "Epoch 00007: Learning rate is 0.000600.\n",
      "871/871 [==============================] - 25s 29ms/step - loss: 0.1572 - accuracy: 0.9489 - val_loss: 0.1500 - val_accuracy: 0.9552\n",
      "Epoch 9/16\n",
      "\n",
      "Epoch 00008: Learning rate is 0.000200.\n",
      "871/871 [==============================] - 25s 29ms/step - loss: 0.1403 - accuracy: 0.9543 - val_loss: 0.1567 - val_accuracy: 0.9552\n",
      "Epoch 10/16\n",
      "\n",
      "Epoch 00009: Learning rate is 0.000200.\n",
      "871/871 [==============================] - 25s 29ms/step - loss: 0.1271 - accuracy: 0.9560 - val_loss: 0.1508 - val_accuracy: 0.9569\n",
      "Epoch 11/16\n",
      "\n",
      "Epoch 00010: Learning rate is 0.000200.\n",
      "871/871 [==============================] - 25s 29ms/step - loss: 0.1185 - accuracy: 0.9597 - val_loss: 0.1459 - val_accuracy: 0.9549\n",
      "Epoch 12/16\n",
      "\n",
      "Epoch 00011: Learning rate is 0.000200.\n",
      "871/871 [==============================] - 25s 29ms/step - loss: 0.1197 - accuracy: 0.9566 - val_loss: 0.1546 - val_accuracy: 0.9555\n",
      "Epoch 13/16\n",
      "\n",
      "Epoch 00012: Learning rate is 0.000080.\n",
      "871/871 [==============================] - 25s 29ms/step - loss: 0.0940 - accuracy: 0.9659 - val_loss: 0.1454 - val_accuracy: 0.9572\n",
      "Epoch 14/16\n",
      "\n",
      "Epoch 00013: Learning rate is 0.000080.\n",
      "871/871 [==============================] - 25s 29ms/step - loss: 0.0972 - accuracy: 0.9637 - val_loss: 0.1630 - val_accuracy: 0.9558\n",
      "Epoch 15/16\n",
      "\n",
      "Epoch 00014: Learning rate is 0.000080.\n",
      "871/871 [==============================] - 25s 29ms/step - loss: 0.0918 - accuracy: 0.9671 - val_loss: 0.1676 - val_accuracy: 0.9543\n",
      "Epoch 16/16\n",
      "\n",
      "Epoch 00015: Learning rate is 0.000080.\n",
      "871/871 [==============================] - 25s 29ms/step - loss: 0.0895 - accuracy: 0.9658 - val_loss: 0.1639 - val_accuracy: 0.9555\n"
     ]
    }
   ],
   "source": [
    "model.compile(optimizer=tf.keras.optimizers.Adam(lr=1e-6), loss='categorical_crossentropy', metrics=['accuracy']) \n",
    "train_history = model.fit(X_train,y_train,batch_size=16,epochs=16,verbose=1,validation_split=0.2,callbacks=[LearningRateScheduler(lr_schedule)])"
   ]
  },
  {
   "cell_type": "code",
   "execution_count": 12,
   "metadata": {
    "executionInfo": {
     "elapsed": 974,
     "status": "ok",
     "timestamp": 1610373330731,
     "user": {
      "displayName": "蘇昀呈",
      "photoUrl": "",
      "userId": "12930628252408939567"
     },
     "user_tz": -480
    },
    "id": "hhy2eULWFFgF"
   },
   "outputs": [],
   "source": [
    "import matplotlib.pyplot as plt\n",
    "def show_train_history(train_acc,test_acc):\n",
    "    plt.plot(train_history.history[train_acc])\n",
    "    plt.plot(train_history.history[test_acc])\n",
    "    plt.title('Train History')\n",
    "    plt.ylabel('Accuracy/loss')\n",
    "    plt.xlabel('Epoch')\n",
    "    plt.legend(['train', 'test'], loc='upper left')\n",
    "    plt.show()"
   ]
  },
  {
   "cell_type": "code",
   "execution_count": 13,
   "metadata": {
    "colab": {
     "base_uri": "https://localhost:8080/",
     "height": 295
    },
    "executionInfo": {
     "elapsed": 1975,
     "status": "ok",
     "timestamp": 1610373331743,
     "user": {
      "displayName": "蘇昀呈",
      "photoUrl": "",
      "userId": "12930628252408939567"
     },
     "user_tz": -480
    },
    "id": "hZWSz6vCFHS8",
    "outputId": "ba506eec-7686-4f73-fd28-eac5e253dc36"
   },
   "outputs": [
    {
     "data": {
      "image/png": "[encoded data removed]",
      "text/plain": [
       "<Figure size 432x288 with 1 Axes>"
      ]
     },
     "metadata": {
      "needs_background": "light",
      "tags": []
     },
     "output_type": "display_data"
    }
   ],
   "source": [
    "show_train_history('accuracy','val_accuracy')"
   ]
  },
  {
   "cell_type": "code",
   "execution_count": 14,
   "metadata": {
    "colab": {
     "base_uri": "https://localhost:8080/",
     "height": 295
    },
    "executionInfo": {
     "elapsed": 1968,
     "status": "ok",
     "timestamp": 1610373331743,
     "user": {
      "displayName": "蘇昀呈",
      "photoUrl": "",
      "userId": "12930628252408939567"
     },
     "user_tz": -480
    },
    "id": "e4MlSZZDFIwk",
    "outputId": "6354cee1-575c-42eb-8243-4c1af669c322"
   },
   "outputs": [
    {
     "data": {
      "image/png": "[encoded data removed]",
      "text/plain": [
       "<Figure size 432x288 with 1 Axes>"
      ]
     },
     "metadata": {
      "needs_background": "light",
      "tags": []
     },
     "output_type": "display_data"
    }
   ],
   "source": [
    "show_train_history('loss','val_loss')"
   ]
  },
  {
   "cell_type": "code",
   "execution_count": null,
   "metadata": {
    "id": "WeeUYoBZuCTU"
   },
   "outputs": [],
   "source": [
    "del X_train, y_train"
   ]
  },
  {
   "cell_type": "code",
   "execution_count": 15,
   "metadata": {
    "colab": {
     "base_uri": "https://localhost:8080/"
    },
    "executionInfo": {
     "elapsed": 4341,
     "status": "ok",
     "timestamp": 1610373376476,
     "user": {
      "displayName": "蘇昀呈",
      "photoUrl": "",
      "userId": "12930628252408939567"
     },
     "user_tz": -480
    },
    "id": "fmEFz-rgpL2U",
    "outputId": "7b07f82c-82a5-4f73-98e0-5c5c0ad6599f"
   },
   "outputs": [
    {
     "data": {
      "text/plain": [
       "(((4353, 128, 128, 3), dtype('uint8')), ((4353, 2), dtype('float32')))"
      ]
     },
     "execution_count": 15,
     "metadata": {
      "tags": []
     },
     "output_type": "execute_result"
    }
   ],
   "source": [
    "X_test = np.load('X_test.npy')\n",
    "y_test = np.load('y_test.npy')\n",
    "# X_test = (X_test/255).astype('float32')\n",
    "(X_test.shape,X_test.dtype),(y_test.shape,y_test.dtype)"
   ]
  },
  {
   "cell_type": "code",
   "execution_count": 16,
   "metadata": {
    "colab": {
     "base_uri": "https://localhost:8080/"
    },
    "executionInfo": {
     "elapsed": 1862,
     "status": "ok",
     "timestamp": 1610373376477,
     "user": {
      "displayName": "蘇昀呈",
      "photoUrl": "",
      "userId": "12930628252408939567"
     },
     "user_tz": -480
    },
    "id": "10CPkj_2prqi",
    "outputId": "75f4db20-8343-43ff-c7ad-d088346836ad"
   },
   "outputs": [
    {
     "data": {
      "text/plain": [
       "(0, 255)"
      ]
     },
     "execution_count": 16,
     "metadata": {
      "tags": []
     },
     "output_type": "execute_result"
    }
   ],
   "source": [
    "X_test.min(),X_test.max()"
   ]
  },
  {
   "cell_type": "code",
   "execution_count": 17,
   "metadata": {
    "colab": {
     "base_uri": "https://localhost:8080/"
    },
    "executionInfo": {
     "elapsed": 3316,
     "status": "ok",
     "timestamp": 1610373380619,
     "user": {
      "displayName": "蘇昀呈",
      "photoUrl": "",
      "userId": "12930628252408939567"
     },
     "user_tz": -480
    },
    "id": "0RjD8YrYp-Qj",
    "outputId": "b07d1068-b7f8-4099-bc05-520aa9049e96"
   },
   "outputs": [
    {
     "name": "stdout",
     "output_type": "stream",
     "text": [
      "137/137 [==============================] - 2s 15ms/step - loss: 0.1372 - accuracy: 0.9607\n",
      "loss:  0.13717465102672577 accuracy:  0.960716724395752\n"
     ]
    }
   ],
   "source": [
    "eva = model.evaluate(X_test,y_test)\n",
    "print('loss: ',eva[0],'accuracy: ',eva[1])"
   ]
  },
  {
   "cell_type": "code",
   "execution_count": null,
   "metadata": {},
   "outputs": [],
   "source": [
    "model.save('malaria_cnn.h5')"
   ]
  }
 ],
 "metadata": {
  "accelerator": "GPU",
  "colab": {
   "authorship_tag": "ABX9TyMehqQaiQyT9ToYUnJ+pdeT",
   "collapsed_sections": [],
   "name": "malaria_Tensor/Keras.ipynb",
   "provenance": []
  },
  "kernelspec": {
   "display_name": "Python 3",
   "language": "python",
   "name": "python3"
  },
  "language_info": {
   "codemirror_mode": {
    "name": "ipython",
    "version": 3
   },
   "file_extension": ".py",
   "mimetype": "text/x-python",
   "name": "python",
   "nbconvert_exporter": "python",
   "pygments_lexer": "ipython3",
   "version": "3.8.5"
  }
 },
 "nbformat": 4,
 "nbformat_minor": 1
}
